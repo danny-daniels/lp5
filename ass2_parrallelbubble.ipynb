{
  "nbformat": 4,
  "nbformat_minor": 0,
  "metadata": {
    "colab": {
      "provenance": []
    },
    "kernelspec": {
      "name": "python3",
      "display_name": "Python 3"
    },
    "language_info": {
      "name": "python"
    }
  },
  "cells": [
    {
      "cell_type": "code",
      "execution_count": 5,
      "metadata": {
        "colab": {
          "base_uri": "https://localhost:8080/"
        },
        "id": "ce8TMieJL-eG",
        "outputId": "6fb94c3b-bb82-4547-cb33-546cde2f98f1"
      },
      "outputs": [
        {
          "output_type": "stream",
          "name": "stdout",
          "text": [
            "Writing ass2parallelbubble.cu\n"
          ]
        }
      ],
      "source": [
        "%%writefile ass2parallelmergesort.cu\n",
        "\n",
        "#include <iostream>\n",
        "#include <omp.h>\n",
        "using namespace std;\n",
        "\n",
        "void merge(int arr[], int low, int mid, int high) {\n",
        "    // Create arrays of left and right partitions\n",
        "    int n1 = mid - low + 1;\n",
        "    int n2 = high - mid;\n",
        "    int left[n1];\n",
        "    int right[n2];\n",
        "\n",
        "    // Copy all left elements\n",
        "    for (int i = 0; i < n1; i++)\n",
        "        left[i] = arr[low + i];\n",
        "\n",
        "    // Copy all right elements\n",
        "    for (int j = 0; j < n2; j++)\n",
        "        right[j] = arr[mid + 1 + j];\n",
        "\n",
        "    // Compare and place elements\n",
        "    int i = 0, j = 0, k = low;\n",
        "    while (i < n1 && j < n2) {\n",
        "        if (left[i] <= right[j]) {\n",
        "            arr[k] = left[i];\n",
        "            i++;\n",
        "        } else {\n",
        "            arr[k] = right[j];\n",
        "            j++;\n",
        "        }\n",
        "        k++;\n",
        "    }\n",
        "\n",
        "    // If any elements are left out\n",
        "    while (i < n1) {\n",
        "        arr[k] = left[i];\n",
        "        i++;\n",
        "        k++;\n",
        "    }\n",
        "    while (j < n2) {\n",
        "        arr[k] = right[j];\n",
        "        j++;\n",
        "        k++;\n",
        "    }\n",
        "}\n",
        "\n",
        "void parallelMergeSort(int arr[], int low, int high) {\n",
        "    if (low < high) {\n",
        "        int mid = (low + high) / 2;\n",
        "#pragma omp parallel sections\n",
        "        {\n",
        "#pragma omp section\n",
        "            {\n",
        "                parallelMergeSort(arr, low, mid);\n",
        "            }\n",
        "#pragma omp section\n",
        "            {\n",
        "                parallelMergeSort(arr, mid + 1, high);\n",
        "            }\n",
        "        }\n",
        "        merge(arr, low, mid, high);\n",
        "    }\n",
        "}\n",
        "\n",
        "void mergeSort(int arr[], int low, int high) {\n",
        "    if (low < high) {\n",
        "        int mid = (low + high) / 2;\n",
        "        mergeSort(arr, low, mid);\n",
        "        mergeSort(arr, mid + 1, high);\n",
        "        merge(arr, low, mid, high);\n",
        "    }\n",
        "}\n",
        "\n",
        "int main() {\n",
        "    int n = 1000;\n",
        "    int arr[n];\n",
        "    double start_time, end_time;\n",
        "\n",
        "    // Create an array with numbers starting from n to 1.\n",
        "    for (int i = 0, j = n; i < n; i++, j--)\n",
        "        arr[i] = j;\n",
        "\n",
        "    // Measure Sequential Time\n",
        "    start_time = omp_get_wtime();\n",
        "    mergeSort(arr, 0, n - 1);\n",
        "    end_time = omp_get_wtime();\n",
        "    cout << \"Time taken by sequential algorithm: \" << end_time - start_time << \" seconds\\n\";\n",
        "\n",
        "    // Reset the array\n",
        "    for (int i = 0, j = n; i < n; i++, j--)\n",
        "        arr[i] = j;\n",
        "\n",
        "    // Measure Parallel time\n",
        "    start_time = omp_get_wtime();\n",
        "    parallelMergeSort(arr, 0, n - 1);\n",
        "    end_time = omp_get_wtime();\n",
        "    cout << \"Time taken by parallel algorithm: \" << end_time - start_time << \" seconds\";\n",
        "\n",
        "    return 0;\n",
        "}"
      ]
    },
    {
      "cell_type": "code",
      "source": [
        "!nvcc -o ass2parallelbubble ass2parallelbubble.cu -Xcompiler -fopenmp\n",
        "!./ass2parallelbubble"
      ],
      "metadata": {
        "colab": {
          "base_uri": "https://localhost:8080/"
        },
        "id": "xDHLGPftMlpH",
        "outputId": "e9ec1ffb-d9ca-429c-e1d5-aec87a24a4be"
      },
      "execution_count": 6,
      "outputs": [
        {
          "output_type": "stream",
          "name": "stdout",
          "text": [
            "\u001b[01m\u001b[0m\u001b[01mass2parallelbubble.cu(42)\u001b[0m: \u001b[01;35mwarning\u001b[0m #177-D: variable \u001b[01m\"brr\"\u001b[0m was declared but never referenced\n",
            "  int brr[n];\n",
            "      ^\n",
            "\n",
            "\u001b[01;36m\u001b[0m\u001b[01;36mRemark\u001b[0m: The warnings can be suppressed with \"-diag-suppress <warning-number>\"\n",
            "\n",
            "Sequential Bubble Sort took : 1.549e-06 seconds.\n",
            "1 2 3 4 5 6 7 8 9 10 \n",
            "Parallel Bubble Sort took : 2.76e-06 seconds.\n",
            "1 2 3 4 5 6 7 8 9 10 \n"
          ]
        }
      ]
    }
  ]
}