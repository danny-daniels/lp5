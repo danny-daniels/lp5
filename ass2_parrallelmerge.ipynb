{
  "nbformat": 4,
  "nbformat_minor": 0,
  "metadata": {
    "colab": {
      "provenance": []
    },
    "kernelspec": {
      "name": "python3",
      "display_name": "Python 3"
    },
    "language_info": {
      "name": "python"
    }
  },
  "cells": [
    {
      "cell_type": "code",
      "execution_count": 9,
      "metadata": {
        "colab": {
          "base_uri": "https://localhost:8080/"
        },
        "id": "ce8TMieJL-eG",
        "outputId": "d6411fd4-289a-49ac-aafe-b0a1012bc7b0"
      },
      "outputs": [
        {
          "output_type": "stream",
          "name": "stdout",
          "text": [
            "Overwriting ass2parallelmergesort.cu\n"
          ]
        }
      ],
      "source": [
        "%%writefile ass2parallelmergesort.cu\n",
        "\n",
        "#include <iostream>\n",
        "#include <omp.h>\n",
        "using namespace std;\n",
        "\n",
        "void merge(int arr[], int low, int mid, int high) {\n",
        "    // Create arrays of left and right partitions\n",
        "    int n1 = mid - low + 1;\n",
        "    int n2 = high - mid;\n",
        "    int left[n1];\n",
        "    int right[n2];\n",
        "\n",
        "    // Copy all left elements\n",
        "    for (int i = 0; i < n1; i++)\n",
        "        left[i] = arr[low + i];\n",
        "\n",
        "    // Copy all right elements\n",
        "    for (int j = 0; j < n2; j++)\n",
        "        right[j] = arr[mid + 1 + j];\n",
        "\n",
        "    // Compare and place elements\n",
        "    int i = 0, j = 0, k = low;\n",
        "    while (i < n1 && j < n2) {\n",
        "        if (left[i] <= right[j]) {\n",
        "            arr[k] = left[i];\n",
        "            i++;\n",
        "        } else {\n",
        "            arr[k] = right[j];\n",
        "            j++;\n",
        "        }\n",
        "        k++;\n",
        "    }\n",
        "\n",
        "    // If any elements are left out\n",
        "    while (i < n1) {\n",
        "        arr[k] = left[i];\n",
        "        i++;\n",
        "        k++;\n",
        "    }\n",
        "    while (j < n2) {\n",
        "        arr[k] = right[j];\n",
        "        j++;\n",
        "        k++;\n",
        "    }\n",
        "}\n",
        "\n",
        "void parallelMergeSort(int arr[], int low, int high) {\n",
        "    if (low < high) {\n",
        "        int mid = (low + high) / 2;\n",
        "#pragma omp parallel sections\n",
        "        {\n",
        "#pragma omp section\n",
        "            {\n",
        "                parallelMergeSort(arr, low, mid);\n",
        "            }\n",
        "#pragma omp section\n",
        "            {\n",
        "                parallelMergeSort(arr, mid + 1, high);\n",
        "            }\n",
        "        }\n",
        "        merge(arr, low, mid, high);\n",
        "    }\n",
        "}\n",
        "\n",
        "void mergeSort(int arr[], int low, int high) {\n",
        "    if (low < high) {\n",
        "        int mid = (low + high) / 2;\n",
        "        mergeSort(arr, low, mid);\n",
        "        mergeSort(arr, mid + 1, high);\n",
        "        merge(arr, low, mid, high);\n",
        "    }\n",
        "}\n",
        "\n",
        "int main() {\n",
        "    int n = 1000;\n",
        "    int arr[n];\n",
        "    double start_time, end_time;\n",
        "\n",
        "    // Create an array with numbers starting from n to 1.\n",
        "    for (int i = 0, j = n; i < n; i++, j--)\n",
        "        arr[i] = j;\n",
        "\n",
        "    // Measure Sequential Time\n",
        "    start_time = omp_get_wtime();\n",
        "    mergeSort(arr, 0, n - 1);\n",
        "    end_time = omp_get_wtime();\n",
        "    cout << \"Time taken by sequential algorithm: \" << end_time - start_time << \" seconds\\n\";\n",
        "\n",
        "    // Reset the array\n",
        "    for (int i = 0, j = n; i < n; i++, j--)\n",
        "        arr[i] = j;\n",
        "\n",
        "    // Measure Parallel time\n",
        "    start_time = omp_get_wtime();\n",
        "    parallelMergeSort(arr, 0, n - 1);\n",
        "    end_time = omp_get_wtime();\n",
        "    cout << \"Time taken by parallel algorithm: \" << end_time - start_time << \" seconds\";\n",
        "\n",
        "    return 0;\n",
        "}"
      ]
    },
    {
      "cell_type": "code",
      "source": [
        "!nvcc -o ass2parallelmergesort ass2parallelmergesort.cu -Xcompiler -fopenmp\n",
        "!./ass2parallelmergesort"
      ],
      "metadata": {
        "colab": {
          "base_uri": "https://localhost:8080/"
        },
        "id": "xDHLGPftMlpH",
        "outputId": "51268861-8e0d-4c5c-ee6c-7c3eb17fb3de"
      },
      "execution_count": 10,
      "outputs": [
        {
          "output_type": "stream",
          "name": "stdout",
          "text": [
            "Time taken by sequential algorithm: 0.000144666 seconds\n",
            "Time taken by parallel algorithm: 0.00775353 seconds"
          ]
        }
      ]
    }
  ]
}