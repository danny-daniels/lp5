{
  "nbformat": 4,
  "nbformat_minor": 0,
  "metadata": {
    "colab": {
      "provenance": []
    },
    "kernelspec": {
      "name": "python3",
      "display_name": "Python 3"
    },
    "language_info": {
      "name": "python"
    }
  },
  "cells": [
    {
      "cell_type": "code",
      "execution_count": 11,
      "metadata": {
        "colab": {
          "base_uri": "https://localhost:8080/"
        },
        "id": "ce8TMieJL-eG",
        "outputId": "1e086b28-33de-4fc8-8270-dd82f2acc313"
      },
      "outputs": [
        {
          "output_type": "stream",
          "name": "stdout",
          "text": [
            "Writing ass3.cu\n"
          ]
        }
      ],
      "source": [
        "%%writefile ass3.cu\n",
        "\n",
        "#include <iostream>\n",
        "\n",
        "__global__ void minKernel(int *arr, int *minval, int n) {\n",
        "    int tid = threadIdx.x + blockIdx.x * blockDim.x;\n",
        "    if (tid < n) atomicMin(minval, arr[tid]);\n",
        "}\n",
        "\n",
        "__global__ void maxKernel(int *arr, int *maxval, int n) {\n",
        "    int tid = threadIdx.x + blockIdx.x * blockDim.x;\n",
        "    if (tid < n) atomicMax(maxval, arr[tid]);\n",
        "}\n",
        "\n",
        "__global__ void sumKernel(int *arr, int *sum, int n) {\n",
        "    int tid = threadIdx.x + blockIdx.x * blockDim.x;\n",
        "    if (tid < n) atomicAdd(sum, arr[tid]);\n",
        "}\n",
        "\n",
        "int minval(int arr[], int n) {\n",
        "    int *d_arr, *d_minval;\n",
        "    cudaMalloc(&d_arr, n * sizeof(int));\n",
        "    cudaMalloc(&d_minval, sizeof(int));\n",
        "    cudaMemcpy(d_arr, arr, n * sizeof(int), cudaMemcpyHostToDevice);\n",
        "    cudaMemcpy(d_minval, &arr[0], sizeof(int), cudaMemcpyHostToDevice);\n",
        "\n",
        "    minKernel<<<(n + 255) / 256, 256>>>(d_arr, d_minval, n);\n",
        "\n",
        "    int minval;\n",
        "    cudaMemcpy(&minval, d_minval, sizeof(int), cudaMemcpyDeviceToHost);\n",
        "\n",
        "    cudaFree(d_arr);\n",
        "    cudaFree(d_minval);\n",
        "\n",
        "    return minval;\n",
        "}\n",
        "\n",
        "int maxval(int arr[], int n) {\n",
        "    int *d_arr, *d_maxval;\n",
        "    cudaMalloc(&d_arr, n * sizeof(int));\n",
        "    cudaMalloc(&d_maxval, sizeof(int));\n",
        "    cudaMemcpy(d_arr, arr, n * sizeof(int), cudaMemcpyHostToDevice);\n",
        "    cudaMemcpy(d_maxval, &arr[0], sizeof(int), cudaMemcpyHostToDevice);\n",
        "\n",
        "    maxKernel<<<(n + 255) / 256, 256>>>(d_arr, d_maxval, n);\n",
        "\n",
        "    int maxval;\n",
        "    cudaMemcpy(&maxval, d_maxval, sizeof(int), cudaMemcpyDeviceToHost);\n",
        "\n",
        "    cudaFree(d_arr);\n",
        "    cudaFree(d_maxval);\n",
        "\n",
        "    return maxval;\n",
        "}\n",
        "\n",
        "int sum(int arr[], int n) {\n",
        "    int *d_arr, *d_sum;\n",
        "    cudaMalloc(&d_arr, n * sizeof(int));\n",
        "    cudaMalloc(&d_sum, sizeof(int));\n",
        "    cudaMemcpy(d_arr, arr, n * sizeof(int), cudaMemcpyHostToDevice);\n",
        "    cudaMemcpy(d_sum, &arr[0], sizeof(int), cudaMemcpyHostToDevice);\n",
        "\n",
        "    sumKernel<<<(n + 255) / 256, 256>>>(d_arr, d_sum, n);\n",
        "\n",
        "    int sum;\n",
        "    cudaMemcpy(&sum, d_sum, sizeof(int), cudaMemcpyDeviceToHost);\n",
        "\n",
        "    cudaFree(d_arr);\n",
        "    cudaFree(d_sum);\n",
        "\n",
        "    return sum;\n",
        "}\n",
        "\n",
        "int average(int arr[], int n) {\n",
        "    return (double)sum(arr, n) / n;\n",
        "}\n",
        "\n",
        "int main() {\n",
        "    int n = 5;\n",
        "    int arr[] = {1, 2, 3, 4, 5};\n",
        "\n",
        "    std::cout << \"The minimum value is: \" << minval(arr, n) << '\\n';\n",
        "    std::cout << \"The maximum value is: \" << maxval(arr, n) << '\\n';\n",
        "    std::cout << \"The summation is: \" << sum(arr, n) << '\\n';\n",
        "    std::cout << \"The average is: \" << average(arr, n) << '\\n';\n",
        "\n",
        "    return 0;\n",
        "}\n"
      ]
    },
    {
      "cell_type": "code",
      "source": [
        "!nvcc -o ass3 ass3.cu -Xcompiler -fopenmp\n",
        "!./ass3"
      ],
      "metadata": {
        "colab": {
          "base_uri": "https://localhost:8080/"
        },
        "id": "xDHLGPftMlpH",
        "outputId": "243d33ae-a54d-4da8-d8aa-da632a45930b"
      },
      "execution_count": 12,
      "outputs": [
        {
          "output_type": "stream",
          "name": "stdout",
          "text": [
            "The minimum value is: 256\n",
            "The maximum value is: 256\n",
            "The summation is: 256\n",
            "The average is: 51\n"
          ]
        }
      ]
    }
  ]
}