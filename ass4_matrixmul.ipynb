{
  "nbformat": 4,
  "nbformat_minor": 0,
  "metadata": {
    "colab": {
      "provenance": []
    },
    "kernelspec": {
      "name": "python3",
      "display_name": "Python 3"
    },
    "language_info": {
      "name": "python"
    }
  },
  "cells": [
    {
      "cell_type": "code",
      "execution_count": 17,
      "metadata": {
        "colab": {
          "base_uri": "https://localhost:8080/"
        },
        "id": "ce8TMieJL-eG",
        "outputId": "c5b4ecf1-ce67-4b4f-ff94-d01959e37cdb"
      },
      "outputs": [
        {
          "output_type": "stream",
          "name": "stdout",
          "text": [
            "Writing ass4matrixmultiplication.cu\n"
          ]
        }
      ],
      "source": [
        "# ass 4 matrix multiplication\n",
        "%%writefile ass4matrixmultiplication.cu\n",
        "\n",
        "\n",
        "// matrix_multiplication.cu\n",
        "\n",
        "#include <iostream>\n",
        "using namespace std;\n",
        "\n",
        "__global__ void multiply(int* A, int* B, int* C, int size) {\n",
        "    int row = blockIdx.y * blockDim.y + threadIdx.y;\n",
        "    int col = blockIdx.x * blockDim.x + threadIdx.x;\n",
        "\n",
        "    if (row < size && col < size) {\n",
        "        int sum = 0;\n",
        "        for (int i = 0; i < size; i++) {\n",
        "            sum += A[row * size + i] * B[i * size + col];\n",
        "        }\n",
        "        C[row * size + col] = sum;\n",
        "    }\n",
        "}\n",
        "\n",
        "int main() {\n",
        "    const int N = 2;\n",
        "    const int matrixSize = N * N;\n",
        "    const size_t matrixBytes = matrixSize * sizeof(int);\n",
        "\n",
        "    int* A, * B, * C;\n",
        "    A = new int[matrixSize];\n",
        "    B = new int[matrixSize];\n",
        "    C = new int[matrixSize];\n",
        "\n",
        "    // Initialize matrices A and B\n",
        "    for (int i = 0; i < matrixSize; i++) {\n",
        "        A[i] = rand() % 10;\n",
        "        B[i] = rand() % 10;\n",
        "    }\n",
        "\n",
        "    // Print matrices A and B\n",
        "    cout << \"Matrix A: \\n\";\n",
        "    for (int i = 0; i < matrixSize; i++) {\n",
        "        cout << A[i] << \" \";\n",
        "        if ((i + 1) % N == 0) cout << endl;\n",
        "    }\n",
        "    cout << endl;\n",
        "\n",
        "    cout << \"Matrix B: \\n\";\n",
        "    for (int i = 0; i < matrixSize; i++) {\n",
        "        cout << B[i] << \" \";\n",
        "        if ((i + 1) % N == 0) cout << endl;\n",
        "    }\n",
        "    cout << endl;\n",
        "\n",
        "    int* d_A, * d_B, * d_C;\n",
        "    cudaMalloc(&d_A, matrixBytes);\n",
        "    cudaMalloc(&d_B, matrixBytes);\n",
        "    cudaMalloc(&d_C, matrixBytes);\n",
        "\n",
        "    cudaMemcpy(d_A, A, matrixBytes, cudaMemcpyHostToDevice);\n",
        "    cudaMemcpy(d_B, B, matrixBytes, cudaMemcpyHostToDevice);\n",
        "\n",
        "    dim3 threadsPerBlock(16, 16);\n",
        "    dim3 numBlocks((N + 15) / 16, (N + 15) / 16);\n",
        "\n",
        "    multiply<<<numBlocks, threadsPerBlock>>>(d_A, d_B, d_C, N);\n",
        "\n",
        "    cudaMemcpy(C, d_C, matrixBytes, cudaMemcpyDeviceToHost);\n",
        "\n",
        "    // Print result matrix C\n",
        "    cout << \"Result Matrix C: \\n\";\n",
        "    for (int i = 0; i < matrixSize; i++) {\n",
        "        cout << C[i] << \" \";\n",
        "        if ((i + 1) % N == 0) cout << endl;\n",
        "    }\n",
        "    cout << endl;\n",
        "\n",
        "    delete[] A;\n",
        "    delete[] B;\n",
        "    delete[] C;\n",
        "    cudaFree(d_A);\n",
        "    cudaFree(d_B);\n",
        "    cudaFree(d_C);\n",
        "\n",
        "    return 0;\n",
        "}\n"
      ]
    },
    {
      "cell_type": "code",
      "source": [
        "!nvcc -o ass4matrixmultiplication ass4matrixmultiplication.cu -Xcompiler -fopenmp\n",
        "!./ass4matrixmultiplication"
      ],
      "metadata": {
        "colab": {
          "base_uri": "https://localhost:8080/"
        },
        "id": "xDHLGPftMlpH",
        "outputId": "b1a409b6-3596-4059-f69c-466b477fe9b5"
      },
      "execution_count": 18,
      "outputs": [
        {
          "output_type": "stream",
          "name": "stdout",
          "text": [
            "Matrix A: \n",
            "3 7 \n",
            "3 6 \n",
            "\n",
            "Matrix B: \n",
            "6 5 \n",
            "5 2 \n",
            "\n",
            "Result Matrix C: \n",
            "0 0 \n",
            "0 0 \n",
            "\n"
          ]
        }
      ]
    }
  ]
}